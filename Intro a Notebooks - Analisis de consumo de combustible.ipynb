{
 "cells": [
  {
   "cell_type": "markdown",
   "metadata": {},
   "source": [
    "\n",
    "# Notebooks - Análisis exploratorio (EDA)"
   ]
  },
  {
   "cell_type": "markdown",
   "metadata": {},
   "source": [
    "## Temas\n",
    "\n",
    "Hola amigos de Youtube, en el siguiente vídeo les voy a hablar acerca de las Notebooks. Luego un caso puntual de un análisis con Jupyter / Google Colab\n",
    "***\n",
    "* Qué son las Notebooks\n",
    "* Qué tipos de Notebooks hay\n",
    "* Ejemplo: EDA con data de fuel"
   ]
  },
  {
   "cell_type": "markdown",
   "metadata": {},
   "source": [
    "# 1. Qué son las Notebooks"
   ]
  },
  {
   "cell_type": "markdown",
   "metadata": {},
   "source": [
    "Intro a Notebooks\n",
    "https://nbviewer.jupyter.org/github/jupyter/notebook/blob/master/docs/source/examples/Notebook/Notebook%20Basics.ipynb\n"
   ]
  },
  {
   "cell_type": "markdown",
   "metadata": {},
   "source": [
    "Soy una celda markdown"
   ]
  },
  {
   "cell_type": "code",
   "execution_count": null,
   "metadata": {},
   "outputs": [],
   "source": [
    "soy una celda de código"
   ]
  },
  {
   "cell_type": "code",
   "execution_count": null,
   "metadata": {},
   "outputs": [],
   "source": [
    "print(\"Soy una celda de codigo\")"
   ]
  },
  {
   "cell_type": "code",
   "execution_count": null,
   "metadata": {},
   "outputs": [],
   "source": [
    "2+10"
   ]
  },
  {
   "cell_type": "markdown",
   "metadata": {},
   "source": [
    "# Markdown 1\n",
    "## Markdown 2\n",
    "### Markdown 3\n",
    "#### Markdown 4\n",
    "##### Markdown 5"
   ]
  },
  {
   "cell_type": "markdown",
   "metadata": {},
   "source": [
    "<img src='https://miro.medium.com/max/1400/1*RQBY0LUv-ItFuhJujhjkUg.png' align=\"...\">"
   ]
  },
  {
   "cell_type": "markdown",
   "metadata": {},
   "source": [
    "# 2. Qué tipos de Notebooks hay?"
   ]
  },
  {
   "cell_type": "markdown",
   "metadata": {},
   "source": [
    "Existen muchos tipos de notebooks, las más comunes son: \n",
    "\n",
    "* Jupyter Notebooks -> Corre en tu propia compu. Es más rápida para archivos pequeños, e importar data es más fácil. Podés personalizar qué librerías utilizar. <br><br>\n",
    "\n",
    "* Azure Notebooks --> Notebooks cloud. Es de Microsoft. <br><br>\n",
    "* Kaggle Notebooks --> Utiliza Azure. https://www.kaggle.com/notebooks (muy recomendable para ver ejemplos)<br><br>\n",
    "* Google Colab: --> De google, muy buena capacidad de cómputo para análisis con data más pesada. https://colab.research.google.com/ <br><br>\n",
    "* AWS EMR Notebooks --> Muy pro, es para trabajar notebooks a nivel corporativo, generando un repositorio de notebooks, administrable. https://docs.aws.amazon.com/emr/latest/ManagementGuide/emr-managed-notebooks.html<br><br>"
   ]
  },
  {
   "cell_type": "markdown",
   "metadata": {},
   "source": [
    "# 3. Ejemplo: EDA sobre consumo de fuel en crucero.\n",
    "\n",
    "## Cargamos librerías para usar"
   ]
  },
  {
   "cell_type": "code",
   "execution_count": null,
   "metadata": {},
   "outputs": [],
   "source": [
    "\n",
    "from IPython.display import HTML\n",
    "import math\n",
    "\n",
    "import numpy as np\n",
    "import pandas as pd\n",
    "\n",
    "import matplotlib.pyplot as plt\n",
    "from IPython.display import Image\n",
    "\n",
    "import seaborn as sns\n",
    "\n",
    "# sns.set(style=\"ticks\")\n",
    "import datetime as dt\n",
    "import plotly.express as px\n",
    "\n",
    "%matplotlib inline\n",
    "pd.options.display.max_columns = None\n",
    "#pd.options.display.max_rows = None"
   ]
  },
  {
   "cell_type": "markdown",
   "metadata": {},
   "source": [
    "# Cargamos la data"
   ]
  },
  {
   "cell_type": "code",
   "execution_count": null,
   "metadata": {},
   "outputs": [],
   "source": [
    "FF = pd.read_csv(r\"C:\\Users\\AR032308\\Aerolineas Argentinas\\PEC - Documentos\\Skybreathe - MyFuelCoach\\Advanced trajectory add-on\\FL y Speed\\BDD - waypoints completo OK.csv\", encoding='ANSI', sep=';' , thousands='.', decimal=',')\n",
    "print(FF.shape)\n",
    "FF.head()"
   ]
  },
  {
   "cell_type": "markdown",
   "metadata": {},
   "source": [
    "## Renombramos columnas y elegimos sólo las que vamos a utilizar\n"
   ]
  },
  {
   "cell_type": "code",
   "execution_count": null,
   "metadata": {},
   "outputs": [],
   "source": [
    "FF = FF.rename(columns = {'Waypoint planned flight phase': 'fase',\n",
    "                          'Flight reference ID': 'ID',\n",
    "                          'Aircraft registration': 'matricula',\n",
    "                          'Scheduled leg': 'ruta',\n",
    "                          'Waypoint name': 'wp',\n",
    "                          'Segmento fuel flow':'fuel_flow',\n",
    "                          'Segmento flight level' :'FL',\n",
    "                          'Segmento actual weight':'weight',\n",
    "                          'Segmento actual TAS':'TAS'})\n",
    "df = FF[['ID', \n",
    "        'fase', \n",
    "        'matricula', \n",
    "        'ruta', \n",
    "        'wp', \n",
    "        'fuel_flow', \n",
    "        'FL', \n",
    "        'weight', \n",
    "        'TAS']]\n",
    "\n",
    "df.head()"
   ]
  },
  {
   "cell_type": "markdown",
   "metadata": {},
   "source": [
    "## Nos quedamos con fase crucero\n",
    "\n",
    "Sólo nos interesa la fase de crucero para este análisis. \n",
    "Descartamos TOC porque al comparar con tramo anterior, contiene en verdad fuel flow de climb"
   ]
  },
  {
   "cell_type": "code",
   "execution_count": null,
   "metadata": {},
   "outputs": [],
   "source": [
    "df = df[(df.fase == 'CRUISE') & \n",
    "               (FF.wp!= 'TOC')]\n",
    "\n",
    "\n",
    "filas_previas = df.shape[0]\n",
    "\n",
    "df.shape"
   ]
  },
  {
   "cell_type": "markdown",
   "metadata": {},
   "source": [
    "## Buscamos NAs\n",
    "\n",
    "Una forma fácil de buscar NAs es con un heatmap de nulos. \n",
    "Esto nos permite ver rápidamente dónde están los NAs: \n",
    "- concentraros por columna\n",
    "- distribuídos en filas\n"
   ]
  },
  {
   "cell_type": "code",
   "execution_count": null,
   "metadata": {},
   "outputs": [],
   "source": [
    "plt.figure(figsize=(16,10))\n",
    "\n",
    "sns.heatmap(df.isnull(), cbar=False)\n",
    "plt.title('Gráfico de NAs', fontsize=18, fontweight='bold');"
   ]
  },
  {
   "cell_type": "markdown",
   "metadata": {},
   "source": [
    "## Análisis de NAs\n",
    "\n",
    "Vemos que en este caso los NAs están se repiten para todas las columnas de data (salvo pocas excepciones). \n",
    "Podemos tirar los NAs entonce. Si por ejemplo estarían concentrados en alguna columna, deberíamos ver \n",
    "si existe un problema con la base de datos"
   ]
  },
  {
   "cell_type": "code",
   "execution_count": null,
   "metadata": {},
   "outputs": [],
   "source": [
    "\n",
    "df = df.dropna(subset = ['fuel_flow', \n",
    "                                      'FL', \n",
    "                                      'weight', \n",
    "                                      'TAS'])\n",
    "filas_nuevas = df.shape[0]\n",
    "\n",
    "print('Filas previas: {}'.format(filas_previas))\n",
    "print('Filas nuevas: {}'.format(filas_nuevas))\n",
    "print('Se eliminó el {:.3} % de las filas'.format( (1- filas_nuevas/filas_previas)*100 ))"
   ]
  },
  {
   "cell_type": "code",
   "execution_count": null,
   "metadata": {},
   "outputs": [],
   "source": [
    "plt.figure(figsize=(16,10))\n",
    "\n",
    "sns.heatmap(df.isnull(), cbar=False)\n",
    "plt.title('Gráfico post drop NAs', fontsize=18, fontweight='bold');"
   ]
  },
  {
   "cell_type": "code",
   "execution_count": null,
   "metadata": {},
   "outputs": [],
   "source": [
    "df.info()"
   ]
  },
  {
   "cell_type": "markdown",
   "metadata": {},
   "source": [
    "## Reorganizamos la data:\n",
    "- Pasamos FL a valores redondeados\n"
   ]
  },
  {
   "cell_type": "code",
   "execution_count": null,
   "metadata": {},
   "outputs": [],
   "source": [
    "plt.figure(figsize=(16,10))\n",
    "\n",
    "sns.countplot(df['FL'])"
   ]
  },
  {
   "cell_type": "code",
   "execution_count": null,
   "metadata": {},
   "outputs": [],
   "source": [
    "df['FL_round'] = df['FL']/10\n",
    "\n",
    "df['FL_round'] = df['FL_round'].round(decimals = 0).astype(int)*10\n",
    "\n",
    "\n",
    "df.head()"
   ]
  },
  {
   "cell_type": "code",
   "execution_count": null,
   "metadata": {},
   "outputs": [],
   "source": [
    "df['par'] = df.FL_round/10 % 2 == 0\n",
    "\n",
    "df.head()"
   ]
  },
  {
   "cell_type": "code",
   "execution_count": null,
   "metadata": {},
   "outputs": [],
   "source": [
    "df['ID'] = df['ID'].apply(lambda x: str(int(x)))\n",
    "df['FL_round'] = df['FL_round'].apply(lambda x: str(int(x)));\n",
    "\n",
    "print(\"# de vuelos:\", len(df.ID.unique()))"
   ]
  },
  {
   "cell_type": "markdown",
   "metadata": {},
   "source": [
    "# Analizamos fuel_flow\n",
    "\n",
    "Vemos nuestra variable target. El objetivo es encontrar outliers y entender patrones de variación\n"
   ]
  },
  {
   "cell_type": "code",
   "execution_count": null,
   "metadata": {},
   "outputs": [],
   "source": [
    "plt.figure(figsize=(16,6))\n",
    "\n",
    "ax = sns.boxplot(data = df, x = 'fuel_flow')\n",
    "\n",
    "plt.title('FUEL FLOW', fontsize=18, fontweight='bold');"
   ]
  },
  {
   "cell_type": "code",
   "execution_count": null,
   "metadata": {},
   "outputs": [],
   "source": [
    "plt.figure(figsize=(16,6))\n",
    "\n",
    "ax =sns.distplot(df['fuel_flow']);\n",
    "\n",
    "plt.title('Fuel flow', fontsize=18, fontweight='bold');"
   ]
  },
  {
   "cell_type": "markdown",
   "metadata": {},
   "source": [
    "## Vemos que valores de fuel flow extremos son anormales: \n",
    "- Valores bajos: tengamos computados casos de descenso como cruise\n",
    "- Valores muy altos: tengamos computados casos de climb como cruise"
   ]
  },
  {
   "cell_type": "code",
   "execution_count": null,
   "metadata": {},
   "outputs": [],
   "source": [
    "df =df[ (df.fuel_flow>1600)  & (df.fuel_flow<3000)]\n",
    "df.head()"
   ]
  },
  {
   "cell_type": "code",
   "execution_count": null,
   "metadata": {
    "scrolled": false
   },
   "outputs": [],
   "source": [
    "plt.figure(figsize=(16,30))\n",
    "\n",
    "ax = sns.boxplot(data = df, x = 'fuel_flow', y = 'ruta')\n",
    "\n",
    "plt.title('FUEL FLOW - ruta', fontsize=18, fontweight='bold');\n"
   ]
  },
  {
   "cell_type": "code",
   "execution_count": null,
   "metadata": {},
   "outputs": [],
   "source": [
    "plt.figure(figsize=(16,10))\n",
    "\n",
    "ax = sns.boxplot(data = df, x = 'fuel_flow', y = 'matricula')\n",
    "\n",
    "plt.title('FUEL FLOW - matricula ', fontsize=18, fontweight='bold');"
   ]
  },
  {
   "cell_type": "code",
   "execution_count": null,
   "metadata": {},
   "outputs": [],
   "source": [
    "plt.figure(figsize=(16,10))\n",
    "\n",
    "ax = sns.boxplot(data = df, x = 'weight', y = 'matricula')\n",
    "\n",
    "plt.title('Weight - Matricula', fontsize=18, fontweight='bold');"
   ]
  },
  {
   "cell_type": "markdown",
   "metadata": {},
   "source": [
    "### Eliminamos valores de weight: \n",
    "- menores a 40.000\n",
    "- mayores a 80.000\n",
    "\n"
   ]
  },
  {
   "cell_type": "code",
   "execution_count": null,
   "metadata": {},
   "outputs": [],
   "source": [
    "plt.figure(figsize=(16,6))\n",
    "\n",
    "ax =sns.distplot(df['weight']);\n",
    "\n",
    "plt.title('weight con outliers', fontsize=18, fontweight='bold');"
   ]
  },
  {
   "cell_type": "code",
   "execution_count": null,
   "metadata": {},
   "outputs": [],
   "source": [
    "df =df[ (df.weight>50000)  & (df.weight<72000)]\n",
    "df"
   ]
  },
  {
   "cell_type": "code",
   "execution_count": null,
   "metadata": {},
   "outputs": [],
   "source": [
    "plt.figure(figsize=(16,6))\n",
    "\n",
    "ax =sns.kdeplot(df['weight'], shade=True);\n",
    "\n",
    "plt.title('weight post outliers', fontsize=18, fontweight='bold');"
   ]
  },
  {
   "cell_type": "markdown",
   "metadata": {},
   "source": [
    "### Discretizamos variable weight: \n",
    "\n",
    "Para facilitar el análisis, hacemos discreta una variable continua. \n",
    "Es decir, asignamos una etiqueta a un valor, si el mismo se encuentra dentro de un determinado rango. "
   ]
  },
  {
   "cell_type": "code",
   "execution_count": null,
   "metadata": {},
   "outputs": [],
   "source": [
    "weight_label = ['1', '2', '3']#, '4', '5', '6', '7', '8', '9', '10']\n",
    "\n",
    "df['weight_bin'] = pd.qcut(df['weight'],\n",
    "                              q=3,\n",
    "                              labels=weight_label)\n",
    "\n",
    "df.head()"
   ]
  },
  {
   "cell_type": "code",
   "execution_count": null,
   "metadata": {},
   "outputs": [],
   "source": [
    "plt.figure(figsize=(16,10))\n",
    "\n",
    "ax = sns.boxplot(data = df, x = 'weight_bin', y = 'fuel_flow')\n",
    "\n",
    "plt.title('Fuel Flow - weight_bin', fontsize=18, fontweight='bold');"
   ]
  },
  {
   "cell_type": "markdown",
   "metadata": {},
   "source": [
    "# Analizamos TAS\n",
    "\n",
    "Buscamos outliers y entendemos patrones"
   ]
  },
  {
   "cell_type": "code",
   "execution_count": null,
   "metadata": {},
   "outputs": [],
   "source": [
    "plt.figure(figsize=(16,6))\n",
    "\n",
    "ax = sns.boxplot(data = df, x = 'TAS')\n",
    "\n",
    "plt.title('TAS boxplot', fontsize=18, fontweight='bold');"
   ]
  },
  {
   "cell_type": "code",
   "execution_count": null,
   "metadata": {},
   "outputs": [],
   "source": [
    "plt.figure(figsize=(16,6))\n",
    "\n",
    "ax =sns.kdeplot(df['TAS'], shade=True);\n",
    "\n",
    "plt.title('TAS con outliers', fontsize=18, fontweight='bold');"
   ]
  },
  {
   "cell_type": "code",
   "execution_count": null,
   "metadata": {},
   "outputs": [],
   "source": [
    "df =df[ (df.TAS>420)]\n",
    "df"
   ]
  },
  {
   "cell_type": "code",
   "execution_count": null,
   "metadata": {},
   "outputs": [],
   "source": [
    "plt.figure(figsize=(16,6))\n",
    "\n",
    "ax =sns.distplot(df['TAS']);\n",
    "\n",
    "plt.title('TAS post outliers', fontsize=18, fontweight='bold');"
   ]
  },
  {
   "cell_type": "code",
   "execution_count": null,
   "metadata": {},
   "outputs": [],
   "source": [
    "TAS_label = ['1', '2', '3', '4', '5', '6', '7', '8', '9', '10']\n",
    "\n",
    "df['TAS_bin'] = pd.qcut(df['TAS'],\n",
    "                              q=10,\n",
    "                              labels=TAS_label)\n",
    "\n",
    "df.head()"
   ]
  },
  {
   "cell_type": "code",
   "execution_count": null,
   "metadata": {},
   "outputs": [],
   "source": [
    "plt.figure(figsize=(16,10))\n",
    "\n",
    "ax = sns.boxplot(data = df, x = 'TAS_bin', y = 'fuel_flow', showfliers = False)\n",
    "\n",
    "plt.title('Fuel Flow - TAS', fontsize=18, fontweight='bold');"
   ]
  },
  {
   "cell_type": "code",
   "execution_count": null,
   "metadata": {},
   "outputs": [],
   "source": [
    "plt.figure(figsize=(16,10))\n",
    "\n",
    "ax = sns.boxplot(data = df, x = 'FL_round', y = 'fuel_flow', showfliers = False)\n",
    "\n",
    "plt.title('Fuel Flow - Flight Level', fontsize=18, fontweight='bold');"
   ]
  },
  {
   "cell_type": "code",
   "execution_count": null,
   "metadata": {},
   "outputs": [],
   "source": [
    "plt.figure(figsize=(16,6))\n",
    "ax = sns.countplot(x='FL_round', data=df)\n",
    "\n",
    "plt.title('Distribución de FL', fontsize=18, fontweight='bold')\n",
    "plt.show()\n",
    "\n",
    "                   "
   ]
  },
  {
   "cell_type": "markdown",
   "metadata": {},
   "source": [
    "Sacamos los FL< 280"
   ]
  },
  {
   "cell_type": "code",
   "execution_count": null,
   "metadata": {},
   "outputs": [],
   "source": [
    "df = df[ df['FL']>= 280]\n",
    "\n",
    "plt.figure(figsize=(16,6))\n",
    "ax = sns.countplot(x='FL_round', data=df)\n",
    "plt.title('Distribución de FL > 280', fontsize=18, fontweight='bold')\n",
    "plt.show()\n"
   ]
  },
  {
   "cell_type": "markdown",
   "metadata": {},
   "source": [
    "# Hacemos una heatmap para ver cómo influyen las dos variables en fuel flow: \n",
    "\n",
    "- Primero tenemos disponer la data de una manera adecuada\n",
    "- realizamos el mapa"
   ]
  },
  {
   "cell_type": "code",
   "execution_count": null,
   "metadata": {
    "scrolled": false
   },
   "outputs": [],
   "source": [
    "sns.jointplot(x=df['TAS'] ,\n",
    "                   y=df['FL'], kind = 'hex', height = 16 , ratio =5)\n"
   ]
  },
  {
   "cell_type": "code",
   "execution_count": null,
   "metadata": {
    "scrolled": false
   },
   "outputs": [],
   "source": [
    "df_pivot = df.pivot_table(values = 'fuel_flow', index = 'FL_round', columns = 'TAS_bin', aggfunc = 'median')\n",
    "\n",
    "df_pivot"
   ]
  },
  {
   "cell_type": "code",
   "execution_count": null,
   "metadata": {},
   "outputs": [],
   "source": [
    "fig, ax = plt.subplots(figsize=(16, 10))\n",
    "fig.subplots_adjust(top=1.1)\n",
    "\n",
    "cbar_kws = {'orientation':\"horizontal\", 'pad':0.1 , 'aspect':16}\n",
    "\n",
    "ax.set_yticklabels(ax.get_yticklabels(), ha=\"right\", fontsize=14, weight='bold')\n",
    "ax.set_xticklabels(ax.get_xticklabels(), fontsize=12, weight='bold')\n",
    "\n",
    "sns.heatmap(df_pivot,   annot = True, fmt='.1f', linewidths=.1, ax = ax,  cbar_kws = cbar_kws, cmap='RdPu' )\n",
    "\n",
    "plt.title('Heatmap AVG fuel flow', fontsize=18, fontweight='bold');\n"
   ]
  },
  {
   "cell_type": "code",
   "execution_count": null,
   "metadata": {},
   "outputs": [],
   "source": [
    "df_pivot = df.pivot_table(values = 'fuel_flow', index = 'FL_round', columns = 'TAS_bin', aggfunc = 'count')/df.fuel_flow.count()*100\n",
    "df_pivot\n",
    "\n",
    "\n",
    "fig, ax = plt.subplots(figsize=(16, 10))\n",
    "fig.subplots_adjust(top=1.1)\n",
    "\n",
    "cbar_kws = {'orientation':\"horizontal\", 'pad':0.1 , 'aspect':16}\n",
    "\n",
    "ax.set_yticklabels(ax.get_yticklabels(), ha=\"right\", fontsize=14, weight='bold')\n",
    "ax.set_xticklabels(ax.get_xticklabels(), fontsize=12, weight='bold')\n",
    "\n",
    "sns.heatmap(df_pivot,  vmin = 1, annot = True, fmt='.1f', linewidths=.1, ax = ax,  cbar_kws = cbar_kws, cmap='RdPu' )\n",
    "\n",
    "plt.title('Heatmap % data points', fontsize=18, fontweight='bold');\n"
   ]
  },
  {
   "cell_type": "markdown",
   "metadata": {},
   "source": [
    "Vemos que hay la concentración de datos está en FL>350 y TAS_bin<7. En "
   ]
  },
  {
   "cell_type": "code",
   "execution_count": null,
   "metadata": {
    "scrolled": false
   },
   "outputs": [],
   "source": [
    "sns.catplot(y = \"fuel_flow\", hue = \"TAS_bin\", col = 'FL_round', row = 'TAS_bin',  data = df, kind = 'box', height = 10, showfliers = False);\n",
    "plt.show()"
   ]
  },
  {
   "cell_type": "markdown",
   "metadata": {},
   "source": [
    "# Ploteo 3D\n",
    "\n",
    "- Ploteamos todo\n",
    "- Empezamos a reducir variables para entender tendencias\n"
   ]
  },
  {
   "cell_type": "code",
   "execution_count": null,
   "metadata": {},
   "outputs": [],
   "source": [
    "fig = px.scatter_3d( df, \n",
    "                    x='FL_round', y='TAS_bin', z='fuel_flow', color = 'fuel_flow', size_max=0.01)\n",
    "\n",
    "# tight layout\n",
    "fig.update_layout(margin=dict(l=0, r=0, b=0, t=0))\n",
    "\n",
    "fig.show()"
   ]
  },
  {
   "cell_type": "markdown",
   "metadata": {},
   "source": [
    "### Ploteamos sólo AEP-COR"
   ]
  },
  {
   "cell_type": "code",
   "execution_count": null,
   "metadata": {},
   "outputs": [],
   "source": [
    "fig = px.scatter_3d( df[ (df['ruta']=='AEP-COR') & df.par ], \n",
    "                    x='FL_round', y='TAS_bin', z='fuel_flow', color = 'fuel_flow', size_max=0.01)\n",
    "\n",
    "# tight layout\n",
    "fig.update_layout(margin=dict(l=0, r=0, b=0, t=0))\n",
    "\n",
    "fig.show()"
   ]
  },
  {
   "cell_type": "code",
   "execution_count": null,
   "metadata": {},
   "outputs": [],
   "source": [
    "fig = px.scatter_3d(df[ ((df['FL_round']=='400')|(df['FL_round']=='360')| (df['FL_round']=='320')) \n",
    "                       & (df['TAS']>420) & (df['TAS']<480) \n",
    "                       & (df['fuel_flow']>1800)& (df['fuel_flow']<3000)\n",
    "                      &  (df['ruta']=='AEP-COR') ], \n",
    "                    \n",
    "                    x='FL_round', y='TAS_bin', z='fuel_flow', color = 'fuel_flow', size_max=0.01\n",
    "                   )\n",
    "\n",
    "# tight layout\n",
    "fig.update_layout(margin=dict(l=0, r=0, b=0, t=0))\n",
    "\n",
    "fig.show()"
   ]
  },
  {
   "cell_type": "code",
   "execution_count": null,
   "metadata": {},
   "outputs": [],
   "source": [
    "a = df.pivot_table(values = ['fuel_flow', 'weight'], index = ['FL_round', 'TAS_bin', 'par'], aggfunc = 'median').reset_index()\n",
    "a.head()"
   ]
  },
  {
   "cell_type": "code",
   "execution_count": null,
   "metadata": {},
   "outputs": [],
   "source": [
    "fig = px.scatter_3d(a [ (a.par)] , \n",
    "                    x = 'FL_round', y = 'TAS_bin', z = 'fuel_flow', color = 'fuel_flow')\n",
    "\n",
    "fig.update_layout(margin=dict(l=0, r=0, b=0, t=0))\n",
    "\n",
    "fig.show()"
   ]
  },
  {
   "cell_type": "markdown",
   "metadata": {},
   "source": [
    "# Cómo afecta el peso?"
   ]
  },
  {
   "cell_type": "markdown",
   "metadata": {},
   "source": [
    "### Si observamos cómo varía el peso en función de la altitud:"
   ]
  },
  {
   "cell_type": "code",
   "execution_count": null,
   "metadata": {},
   "outputs": [],
   "source": [
    "plt.figure(figsize=(16,5))\n",
    "\n",
    "ax = sns.boxplot(data = df, x = 'FL_round', y = 'weight', showfliers = False)\n",
    "\n",
    "plt.title('Weight vs FL', fontsize=18, fontweight='bold');"
   ]
  },
  {
   "cell_type": "markdown",
   "metadata": {},
   "source": [
    "### Vemos que altitudes mayores se alcanzan con aviones más livianos. Por lo tanto, el fuel flow observado está afectado también por un sesgo\n",
    "\n",
    "Analizamos entonces el efecto del peso\n",
    "Agregamos: \n",
    " - weight bin al análisis"
   ]
  },
  {
   "cell_type": "code",
   "execution_count": null,
   "metadata": {},
   "outputs": [],
   "source": [
    "b = df.pivot_table(values = ['fuel_flow', 'weight'], index = ['FL_round', 'TAS_bin', 'par', 'weight_bin'], aggfunc = 'median').reset_index()\n",
    "b.head()"
   ]
  },
  {
   "cell_type": "code",
   "execution_count": null,
   "metadata": {},
   "outputs": [],
   "source": [
    "fig = px.scatter_3d(b [ (b.par)& ((b['FL_round']=='380')|(b['FL_round']=='360')| (b['FL_round']=='320')) ] , \n",
    "                    x = 'FL_round', y = 'TAS_bin', z = 'fuel_flow', color = 'weight_bin')\n",
    "\n",
    "fig.update_layout(margin=dict(l=0, r=0, b=0, t=0))\n",
    "\n",
    "fig.show()"
   ]
  },
  {
   "cell_type": "markdown",
   "metadata": {},
   "source": [
    "### Si observamos sólo aviones con peso intermedio:"
   ]
  },
  {
   "cell_type": "code",
   "execution_count": null,
   "metadata": {},
   "outputs": [],
   "source": []
  },
  {
   "cell_type": "code",
   "execution_count": null,
   "metadata": {
    "scrolled": false
   },
   "outputs": [],
   "source": [
    "fig = px.scatter_3d(b [ (b.par) & (b.weight_bin == '2') ] , \n",
    "                    x = 'FL_round', y = 'TAS_bin', z = 'fuel_flow', color = 'fuel_flow')\n",
    "\n",
    "fig.update_layout(margin=dict(l=0, r=0, b=0, t=0))\n",
    "\n",
    "fig.show()"
   ]
  },
  {
   "cell_type": "markdown",
   "metadata": {},
   "source": []
  },
  {
   "cell_type": "markdown",
   "metadata": {},
   "source": [
    "# RECURSOS\n"
   ]
  },
  {
   "cell_type": "markdown",
   "metadata": {},
   "source": [
    "Tutorial Jupyter: \n",
    "\n",
    "- https://facundoq.github.io/courses/aa2018/res/02_python.html\n",
    "- https://towardsdatascience.com/the-complete-guide-to-jupyter-notebooks-for-data-science-8ff3591f69a4\n",
    "\n",
    "\n",
    "Instalar Python:\n",
    "- http://facundoq.github.io/courses/images/jupyter.html\n",
    "\n",
    "Ejemplos de notebooks piolas: \n",
    "- https://github.com/jupyter/jupyter/wiki/A-gallery-of-interesting-Jupyter-Notebooks\n",
    "\n"
   ]
  },
  {
   "cell_type": "code",
   "execution_count": null,
   "metadata": {},
   "outputs": [],
   "source": []
  }
 ],
 "metadata": {
  "kernelspec": {
   "display_name": "Python 3",
   "language": "python",
   "name": "python3"
  },
  "language_info": {
   "codemirror_mode": {
    "name": "ipython",
    "version": 3
   },
   "file_extension": ".py",
   "mimetype": "text/x-python",
   "name": "python",
   "nbconvert_exporter": "python",
   "pygments_lexer": "ipython3",
   "version": "3.7.4"
  }
 },
 "nbformat": 4,
 "nbformat_minor": 2
}
